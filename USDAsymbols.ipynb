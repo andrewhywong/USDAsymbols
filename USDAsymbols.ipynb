{
  "nbformat": 4,
  "nbformat_minor": 0,
  "metadata": {
    "colab": {
      "name": "USDAsymbols.ipynb",
      "provenance": [],
      "collapsed_sections": [],
      "authorship_tag": "ABX9TyM0sXgggJnt9bdgH1atD87t",
      "include_colab_link": true
    },
    "kernelspec": {
      "name": "python3",
      "display_name": "Python 3"
    },
    "language_info": {
      "name": "python"
    }
  },
  "cells": [
    {
      "cell_type": "markdown",
      "metadata": {
        "id": "view-in-github",
        "colab_type": "text"
      },
      "source": [
        "<a href=\"https://colab.research.google.com/github/andrewhywong/USDAsymbols/blob/main/USDAsymbols.ipynb\" target=\"_parent\"><img src=\"https://colab.research.google.com/assets/colab-badge.svg\" alt=\"Open In Colab\"/></a>"
      ]
    },
    {
      "cell_type": "code",
      "metadata": {
        "colab": {
          "base_uri": "https://localhost:8080/"
        },
        "id": "wRRc-zBtdyMk",
        "outputId": "75114098-3454-4675-f4b5-d34dca01f561"
      },
      "source": [
        "from google.colab import drive\n",
        "drive.mount('/content/drive')"
      ],
      "execution_count": null,
      "outputs": [
        {
          "output_type": "stream",
          "name": "stdout",
          "text": [
            "Mounted at /content/drive\n"
          ]
        }
      ]
    },
    {
      "cell_type": "code",
      "metadata": {
        "id": "GqV1-F1pd8rK"
      },
      "source": [
        "from urllib import parse\n",
        "import bs4\n",
        "import re\n",
        "from multiprocessing import Process\n",
        "from multiprocessing import Manager\n",
        "import requests\n",
        "import time\n",
        "import xlrd\n",
        "from bs4 import BeautifulSoup\n",
        "from lxml import etree\n",
        "import re\n",
        "import pandas as pd\n",
        "import json"
      ],
      "execution_count": null,
      "outputs": []
    },
    {
      "cell_type": "code",
      "metadata": {
        "id": "tGq9zkZ34KKI"
      },
      "source": [
        "# this database url should be somewhere in the inspection of normal JS page\n",
        "# Not working for apparent page \n",
        "root_url = 'https://plantsservices.sc.egov.usda.gov/api/PlantProfile?symbol='\n",
        "# symbolIDList = ['LUFO2','LAAN81','CIIN']\n",
        "symbolIDList = pd.read_csv('/content/drive/MyDrive/NYMPHS/All_uni_symbols.csv')"
      ],
      "execution_count": null,
      "outputs": []
    },
    {
      "cell_type": "code",
      "metadata": {
        "id": "FPJmaYWzeJJJ"
      },
      "source": [
        "class getMain(object):\n",
        "  def __init__(self, i):\n",
        "    print(i)\n",
        "    # prepare headers\n",
        "    self.headers = {\n",
        "      'Accept': 'text/html,application/xhtml+xml,application/xml;q=0.9,image/avif,image/webp,image/apng,*/*;q=0.8,application/signed-exchange;v=b3;q=0.9',\n",
        "      'Accept-Encoding': 'gzip, deflate, br',\n",
        "      'Accept-Language': 'en,zh-CN;q=0.9,zh;q=0.8,ko;q=0.7',\n",
        "      'Cache-Control': 'max-age=0',\n",
        "      'Connection': 'keep-alive',\n",
        "      'Cookie': '_ga=GA1.2.1272093178.1627507535; __utma=77627408.1272093178.1627507535.1627507535.1627507535.1; __utmz=77627408.1627507535.1.1.utmcsr=google|utmccn=(organic)|utmcmd=organic|utmctr=(not%20provided); nmstat=7d00aeea-6429-c4f4-db3f-d22bbdd2ff45; _4c_=XVLNbts8EHwVg4eerB%2Fqn74VDlD00BzSFh%2B%2Bk0CRa4mwIgokbSUN%2FO7ZtZXAiC9ezs7OkqN5Y8sAE9vxKhNZxsui5nW6ZUd49Wz3xpzR9HdmOwa5KOqmKyNk6qg4cBmJXHTRoVCqFg3vQDVsy15IKy%2BzJi%2FzMhX5Zcs06t80HGjwpp%2FuebixKNMSeeaDJr%2F0S84L7LtlJXw2qkbgZe%2BphCBVzSv1jSmrATW5iKu4QuHwD09RnqZYw0TrZqexPrkR6yGE2e%2BSZFmWeJLexyevZdzbc%2FIEHqRTQysn3f5WBiYFyd7ZeUQAuyNID4mZNLzE8zCj4o%2Fv7d%2BfD7Q7qzO0gtdNjD7XZVqjN0iYndUnFdrwOtMVF%2Bg2Xh%2BxoeFsFLSL0WGg%2BTKnm6%2FoAKYfAsJNVRA6O6LEGSkuuN8uXwdX9HOwLmnQnzpvAuxXf3japALhR1g2T98eNtRD%2FBGhztnFA63ZD84%2Bw0ZkiFpMCPvvKu3x6OAAzl1Z9yb21vYjxMo%2BJ7TzJvph6opg2hA8%2BOgAOjqR2EzfhedYjVbJkWYwpVv2x5m%2BB%2FcLwmAxmXiW2gRjJzmSFRi0%2B4xpeiyejsHOd7AHRSOt7BVMHvfdXvkB02dH6H%2BGObpGKxN5WudN1dQC4xMwJuh8Sr%2FL5fIO',\n",
        "      'Host': 'plantsservices.sc.egov.usda.gov',\n",
        "      'sec-ch-ua': '\"Google Chrome\";v=\"95\", \"Chromium\";v=\"95\", \";Not A Brand\";v=\"99\"',\n",
        "      'sec-ch-ua-mobile': '?0',\n",
        "      'sec-ch-ua-platform': '\"Windows\"',\n",
        "      'Sec-Fetch-Dest': 'document',\n",
        "      'Sec-Fetch-Mode': 'navigate',\n",
        "      'Sec-Fetch-Site': 'none',\n",
        "      'Sec-Fetch-User': '?1',\n",
        "      'Upgrade-Insecure-Requests': '1',\n",
        "      'User-Agent': 'Mozilla/5.0 (Windows NT 10.0; Win64; x64) AppleWebKit/537.36 (KHTML, like Gecko) Chrome/95.0.4638.69 Safari/537.36'\n",
        "        }\n",
        "  def craw(self,full_url,i):\n",
        "    s = requests.get(full_url,headers=self.headers)\n",
        "    soup = BeautifulSoup(s.text, 'html.parser')\n",
        "    getList = soup.find_all(\"scientificname\")\n",
        "    if getList:\n",
        "      # find anything between pattern:\n",
        "      # <scientificname>&lt;i&gt; + &lt;/i&gt;\n",
        "      # of the last element of this soup list\n",
        "      targetLineStr = str(getList[-1])\n",
        "      start = targetLineStr.find(\"<scientificname>&lt;i&gt;\") + len(\"<scientificname>&lt;i&gt;\")\n",
        "      end = targetLineStr.find(\"&lt;/i&gt;\")\n",
        "      sciName = targetLineStr[start:end]\n",
        "    else:\n",
        "      sciName = \"NA\"\n",
        "    return sciName"
      ],
      "execution_count": null,
      "outputs": []
    },
    {
      "cell_type": "code",
      "metadata": {
        "id": "tMgBP5f0395-"
      },
      "source": [
        "speciesdf = pd.DataFrame()\n",
        "for i in symbolIDList.iloc[:,0].values:\n",
        "  full_url = root_url + i\n",
        "  obj = getMain(i)\n",
        "  sciname = obj.craw(full_url,i)\n",
        "  lst = []\n",
        "  for r in range(1):\n",
        "    lst.append([i,sciname])\n",
        "  speciesdf = speciesdf.append(lst)\n",
        "\n",
        "speciesdf = speciesdf.rename(columns={0:'Symbol',1:'SciName'})"
      ],
      "execution_count": null,
      "outputs": []
    },
    {
      "cell_type": "code",
      "metadata": {
        "id": "oNSXJ0YqqOIY"
      },
      "source": [
        "speciesdf.to_csv('/content/drive/MyDrive/NYMPHS/All_uni_symbols_SciName.csv', index=False)"
      ],
      "execution_count": null,
      "outputs": []
    }
  ]
}